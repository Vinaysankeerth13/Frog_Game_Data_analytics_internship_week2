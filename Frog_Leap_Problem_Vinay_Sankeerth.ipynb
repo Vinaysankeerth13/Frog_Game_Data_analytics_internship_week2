{
  "nbformat": 4,
  "nbformat_minor": 0,
  "metadata": {
    "colab": {
      "provenance": [],
      "include_colab_link": true
    },
    "kernelspec": {
      "name": "python3",
      "display_name": "Python 3"
    },
    "language_info": {
      "name": "python"
    }
  },
  "cells": [
    {
      "cell_type": "markdown",
      "metadata": {
        "id": "view-in-github",
        "colab_type": "text"
      },
      "source": [
        "<a href=\"https://colab.research.google.com/github/Vinaysankeerth13/Frog_Game_Data_analytics_internship_week2/blob/main/Frog_Leap_Problem_Vinay_Sankeerth.ipynb\" target=\"_parent\"><img src=\"https://colab.research.google.com/assets/colab-badge.svg\" alt=\"Open In Colab\"/></a>"
      ]
    },
    {
      "cell_type": "markdown",
      "source": [
        "# Problem statement\n",
        "\n",
        "Create famous 'Frog leap' puzzle game. Try completing the game before starting to get an idea about its working.\n",
        "[Demonstration](https://www.neok12.com/games/leap-froggies/leap-froggies.htm).\n",
        "\n",
        "\n",
        "### Rules ###\n",
        "1. The left set of frogs can only move right, the right set of frogs can only move left.\n",
        "2. Frogs can move forward one space, or move two spaces by jumping over another frog from opposite side.\n",
        "3. The puzzle is solved when the two sets of frogs have switched positions.\n",
        "\n",
        "\n",
        "## Steps to solve the problem:\n",
        "### Step1:-\n",
        "- Display green and brown frogs on the left and right sides initially.\n",
        "\n",
        "Initial Display :-  \n",
        "```\n",
        "[ 0 ,  1 ,  2 ,  3 ,  4 ,  5 ,  6 ]\n",
        "['G', 'G', 'G', '-', 'B', 'B', 'B']\n",
        "```\n",
        "<br>\n",
        "Here 'G' represents Green frogs on the left side and 'B' represents brown frogs on the right side. The '-' defines the position of empty leaf.\n",
        "(You can change display according to your imagination or convinience)\n",
        "\n",
        "### Step2:-\n",
        "Accept positions of the frog that you want to move.<br>\n",
        "Example: If we enter position 2 then the game will look like this:-\n",
        "```\n",
        "[ 0 ,  1 ,  2 ,  3 ,  4 ,  5 ,  6 ]\n",
        "['G', 'G', '-', 'G', 'B', 'B', 'B']\n",
        "```\n",
        "\n",
        "### Step3:- ###\n",
        "Define Invalid moves and add conditional 'if' statements accordingly\n",
        "#### Rules\n",
        "1. Entered position should be between 0 to 6. Or a character 'q' to quit the game.\n",
        "2. Entered position cannot be the position of empty leaf.\n",
        "3. If the selected frog position cannot perform the contraints given in rule 2 then the move is invalid.\n",
        "\n",
        "### Step4:-\n",
        "Make the appropriate move by changing the game display."
      ],
      "metadata": {
        "id": "fxZte1ZuP3yr"
      }
    },
    {
      "cell_type": "markdown",
      "source": [
        "## Step 1\n",
        "First create a list `positions` which contains the characters 'G','B' and '-' in the same sequence as given in the initial display state."
      ],
      "metadata": {
        "id": "-viYJbAFQXcJ"
      }
    },
    {
      "cell_type": "code",
      "execution_count": null,
      "metadata": {
        "id": "fSvLBrjwP0sr",
        "colab": {
          "base_uri": "https://localhost:8080/"
        },
        "outputId": "d6ead4fd-5efd-42b3-ff40-4005f63fa126"
      },
      "outputs": [
        {
          "output_type": "stream",
          "name": "stdout",
          "text": [
            "['G', 'G', 'G', '-', 'B', 'B', 'B']\n"
          ]
        }
      ],
      "source": [
        "positions = ['G', 'G', 'G', '-', 'B', 'B', 'B']\n",
        "print(positions)"
      ]
    },
    {
      "cell_type": "markdown",
      "source": [
        "Now print this string ```[ 0 ,  1 ,  2 ,  3 ,  4 ,  5 ,  6 ]``` and after that print the list `positions`"
      ],
      "metadata": {
        "id": "unr1AJLSQj_4"
      }
    },
    {
      "cell_type": "code",
      "source": [
        "print(\"Current status of the game : \")\n",
        "print(\"[ 0    1    2    3    4    5    6]\")\n",
        "print(positions)\n"
      ],
      "metadata": {
        "id": "qqKLcfEmQgiZ",
        "colab": {
          "base_uri": "https://localhost:8080/"
        },
        "outputId": "48e9d93c-28b2-49de-b29e-9a3b69923c50"
      },
      "execution_count": null,
      "outputs": [
        {
          "output_type": "stream",
          "name": "stdout",
          "text": [
            "Current status of the game : \n",
            "[ 0    1    2    3    4    5    6]\n",
            "['G', 'G', 'G', '-', 'B', 'B', 'B']\n"
          ]
        }
      ]
    },
    {
      "cell_type": "markdown",
      "source": [
        "Take position input from user and write a message as `\"Press q to quit else \\nEnter position of piece:\"`."
      ],
      "metadata": {
        "id": "DuEVsgtjQqXV"
      }
    },
    {
      "cell_type": "code",
      "source": [
        "pos = input(\"Press q to quit else \\nEnter position of piece:\")\n"
      ],
      "metadata": {
        "id": "nPz65EKXQnDR",
        "colab": {
          "base_uri": "https://localhost:8080/"
        },
        "outputId": "2819430c-a238-4582-acb1-98937a9526c3"
      },
      "execution_count": null,
      "outputs": [
        {
          "name": "stdout",
          "output_type": "stream",
          "text": [
            "Press q to quit else \n",
            "Enter position of piece:2\n"
          ]
        }
      ]
    },
    {
      "cell_type": "code",
      "source": [
        "type(pos)"
      ],
      "metadata": {
        "colab": {
          "base_uri": "https://localhost:8080/"
        },
        "id": "AeLStFHJERAa",
        "outputId": "c3137b2c-284a-4562-fae3-176b4c97f215"
      },
      "execution_count": null,
      "outputs": [
        {
          "output_type": "execute_result",
          "data": {
            "text/plain": [
              "str"
            ]
          },
          "metadata": {},
          "execution_count": 5
        }
      ]
    },
    {
      "cell_type": "markdown",
      "source": [
        "Now the taken input is in string format. So first check if the input is `'q'` character. If input is `'q'` then the person is quiting the game so print `'You Lose'`."
      ],
      "metadata": {
        "id": "ejy_x_eTRJmT"
      }
    },
    {
      "cell_type": "code",
      "source": [
        "if pos == 'q':\n",
        "  print(\"You Lose\")"
      ],
      "metadata": {
        "id": "1OrsC7P9QxO6"
      },
      "execution_count": null,
      "outputs": []
    },
    {
      "cell_type": "markdown",
      "source": [
        "Next if input character is not `'q'` then it has to be some integer. so convert input to integer format."
      ],
      "metadata": {
        "id": "yZJeDTGlRSMe"
      }
    },
    {
      "cell_type": "code",
      "source": [
        "pos = int(pos)\n",
        "type(pos)"
      ],
      "metadata": {
        "id": "PWZj_Js6RP2G",
        "colab": {
          "base_uri": "https://localhost:8080/"
        },
        "outputId": "5f625dac-d5e2-431c-e6a8-158e5bd72184"
      },
      "execution_count": null,
      "outputs": [
        {
          "output_type": "execute_result",
          "data": {
            "text/plain": [
              "int"
            ]
          },
          "metadata": {},
          "execution_count": 7
        }
      ]
    },
    {
      "cell_type": "markdown",
      "source": [
        "## Step 2\n",
        "Now we have to check validity of the selected positions or move.<br>\n",
        "If the entered number isn't between 0 and 6, then print 'Invalid move'."
      ],
      "metadata": {
        "id": "SyCzN-cYRXZa"
      }
    },
    {
      "cell_type": "code",
      "source": [
        "pos = int(pos)\n",
        "if pos < 0 or 6 < pos:\n",
        "  print(\"Invalid Move\")"
      ],
      "metadata": {
        "id": "8_edLqe2RU8S"
      },
      "execution_count": null,
      "outputs": []
    },
    {
      "cell_type": "markdown",
      "source": [
        "A frog should be present on the selected position to make a move. If leaf is selected then it doesn't make sense. Therefore, if entered postition is same as the postition of empty leaf then the move is invalid and print `Invalid Move`"
      ],
      "metadata": {
        "id": "Va03g0l5Rlkx"
      }
    },
    {
      "cell_type": "code",
      "source": [
        "### your code here\n",
        "if positions[pos] == '-':\n",
        "  print(\"Invalid Move\")\n"
      ],
      "metadata": {
        "id": "uM2-D1xGRiH4"
      },
      "execution_count": null,
      "outputs": []
    },
    {
      "cell_type": "markdown",
      "source": [
        "Initialize a variable named `pos2` at value 0, to store the index of empty leaf, so that we can use it later."
      ],
      "metadata": {
        "id": "cp5q2ahQTnwI"
      }
    },
    {
      "cell_type": "code",
      "source": [
        "pos2 = 0"
      ],
      "metadata": {
        "id": "1SkBYDnaTpiV"
      },
      "execution_count": null,
      "outputs": []
    },
    {
      "cell_type": "markdown",
      "source": [
        "```   \n",
        "    Check if the selected frog is 'G':\n",
        "  \n",
        "        (Inside if when it's 'G'. As 'G' is selected frog can move to right only.)\n",
        "        \n",
        "        ❗condition 1\n",
        "\n",
        "        If **selected_position + 1** is less than or equal to 6 and **curent_position + 1** contains '-'\n",
        "        then it's a valid move and store that postion in `pos2`.\n",
        "        \n",
        "        ❗condition2\n",
        "\n",
        "        Else if **selected_position + 2** is less than or equal to 6 and if **current_position + 2**\n",
        "        contains '-' and if **selected_position + 1** contains 'B' then it's a valid move  and store that postion in `pos2`.\n",
        "        \n",
        "        ❗condition3:\n",
        "\n",
        "        Else remainig all are invalid, so print `Invalid Move`\n",
        "      \n",
        "```"
      ],
      "metadata": {
        "id": "V9UFD623R3Oa"
      }
    },
    {
      "cell_type": "code",
      "source": [
        "if positions[pos] == 'G':\n",
        "    selected_position = pos2\n",
        "    current_position = pos\n",
        "\n",
        "    # Condition 1\n",
        "    if selected_position + 1 <= 6 and positions[current_position + 1] == '-':\n",
        "        pos2 = current_position + 1\n",
        "        print(f\"Valid Move, new position: {pos2}\")\n",
        "\n",
        "    # Condition 2\n",
        "    elif selected_position + 2 <= 6 and positions[current_position + 2] == '-' and positions[current_position + 1] == 'B':\n",
        "        pos2 = current_position + 2\n",
        "        print(f\"Valid Move, new position: {pos2}\")\n",
        "\n",
        "    # Condition 3\n",
        "    else:\n",
        "        print(\"Invalid Move\")\n",
        "        invalid_move_counter += 1\n",
        "\n"
      ],
      "metadata": {
        "id": "IDHxpibURriq",
        "colab": {
          "base_uri": "https://localhost:8080/"
        },
        "outputId": "d6678d7c-9553-41c2-d6ca-8ccfdeac7873"
      },
      "execution_count": null,
      "outputs": [
        {
          "output_type": "stream",
          "name": "stdout",
          "text": [
            "Valid Move, new position: 3\n"
          ]
        }
      ]
    },
    {
      "cell_type": "markdown",
      "source": [
        "```\n",
        "    Check if the selected frog is 'B':\n",
        "    \n",
        "        (Inside if when it's 'B'. As 'B' is selected frog can move to left only.)\n",
        "        \n",
        "        ❗condition1:\n",
        "\n",
        "        If **selected_position - 1** is more than or equal to 0 and **curent_position - 1** contains '-' then\n",
        "        it's a valid move and and store that postion in `pos2`.\n",
        "        \n",
        "        ❗condition2:\n",
        "\n",
        "        Else if **selected_position - 2** is more than or equal to 0 and if **current_position - 2** contains '-'\n",
        "        and if **selected_position - 1** contains 'G' then it's a valid move and and store that postion in `pos2`.\n",
        "\n",
        "        ❗condition3:\n",
        "        \n",
        "        Else remainig all are invalid,, so print `Invalid Move`.\n",
        "        \n",
        "```"
      ],
      "metadata": {
        "id": "DyQX5nUsTZPF"
      }
    },
    {
      "cell_type": "code",
      "source": [
        "if positions[pos] == 'B':\n",
        "    selected_position = pos2\n",
        "    current_position = pos\n",
        "\n",
        "    # Condition 1\n",
        "    if selected_position - 1 >= 0 and positions[current_position - 1] == '-':\n",
        "        pos2 = current_position - 1\n",
        "        print(f\"Valid Move, new position: {pos2}\")\n",
        "\n",
        "    # Condition 2\n",
        "    elif selected_position - 2 <= 6 and positions[current_position - 2] == '-' and selected_position - 1 == 'G':\n",
        "        pos2 = current_position - 2\n",
        "        print(f\"Valid Move, new position: {pos2}\")\n",
        "\n",
        "    # Condition 3\n",
        "    else:\n",
        "        print(\"Invalid Move\")\n",
        "        invalid_move_counter -= 1\n"
      ],
      "metadata": {
        "id": "cQ2G3ZO_TWU5"
      },
      "execution_count": null,
      "outputs": []
    },
    {
      "cell_type": "markdown",
      "source": [
        "Swap the element at selected positions and calculated position2 in the list.<br> So basically we are moving the frog to next valid position by swapping elelments of array."
      ],
      "metadata": {
        "id": "Vads2oztUd4g"
      }
    },
    {
      "cell_type": "code",
      "source": [
        "positions[selected_position], positions[current_position] = positions[current_position], positions[selected_position]"
      ],
      "metadata": {
        "id": "jXOGtww7UeYQ"
      },
      "execution_count": null,
      "outputs": []
    },
    {
      "cell_type": "markdown",
      "source": [
        "Now print the display of the game again to see the change.<br>\n",
        "If we enter position 2 then the output will look like this:-\n",
        "```\n",
        "[ 0 ,  1 ,  2 ,  3 ,  4 ,  5 ,  6 ]\n",
        "['G', 'G', '-', 'G', 'B', 'B', 'B']\n",
        "```"
      ],
      "metadata": {
        "id": "8qF4Q2HsUlZ4"
      }
    },
    {
      "cell_type": "code",
      "source": [
        "print(positions)"
      ],
      "metadata": {
        "id": "0S3oNzG3UifK",
        "colab": {
          "base_uri": "https://localhost:8080/"
        },
        "outputId": "d3058761-6359-4ea1-a95d-4d8a13297663"
      },
      "execution_count": null,
      "outputs": [
        {
          "output_type": "stream",
          "name": "stdout",
          "text": [
            "['G', 'G', 'G', '-', 'B', 'B', 'B']\n"
          ]
        }
      ]
    },
    {
      "cell_type": "markdown",
      "source": [
        "Check for winning condition by comparing the elements of list. If player has won the game print `'You Win'`"
      ],
      "metadata": {
        "id": "EILVGu48UsH-"
      }
    },
    {
      "cell_type": "code",
      "source": [
        "if positions == ['-', 'B', 'B', 'B', 'G', 'G', 'G']:\n",
        "        print('OPPOS!! You Loss')\n",
        "\n",
        "elif positions == ['B', 'B', 'B', 'G', 'G', 'G', '-']:\n",
        "        print('OPPOS!! You Loss')\n",
        "\n",
        "elif positions == ['G', 'G', 'B', 'B', 'B', '-', 'G']:\n",
        "        print('OPPOS!! You Loss')\n",
        "\n",
        "elif positions == ['B', 'B', 'B', '-', 'G', 'G', 'G']:\n",
        "        print('Hurry!! You Win')\n"
      ],
      "metadata": {
        "id": "GYkZdiA6Uote"
      },
      "execution_count": null,
      "outputs": []
    },
    {
      "cell_type": "markdown",
      "source": [
        "Now the game should keep running until the player quits, so place all conditional statements inside an infinite loop.<br>\n",
        "\n",
        "1. We have to `'break'` the loop if the player presses `'q'` and quits.\n",
        "\n",
        "2. If the move made by player is `'Invalid Move'` then we have to `'continue'` without executing remaining part of the selected iteration.\n",
        "\n",
        "3. If player wins the game we have to `break` the loop.\n",
        "\n",
        "\n",
        "```\n",
        "Infinite loop:\n",
        "    (inside loop)\n",
        "    1.Take input\n",
        "    2.Check all valid and invalid conditions of `pos`.\n",
        "    3.Make the appropriate move by calculating `pos2`.\n",
        "    4.Display game\n",
        "    4.Check winning condition\n",
        "```"
      ],
      "metadata": {
        "id": "a2a0HHjiUyQ8"
      }
    },
    {
      "cell_type": "code",
      "source": [
        "positions = ['G', 'G', 'G', '-', 'B', 'B', 'B']\n",
        "\n",
        "print(\"Current status of the game : \")\n",
        "print(\"[ 0    1    2    3    4    5    6]\")\n",
        "print(positions)\n",
        "\n",
        "while True:\n",
        "\n",
        "  move = input(\"Press q to quite or enter the position: \")\n",
        "\n",
        "  if move.lower() == 'q':\n",
        "    print(\"You lost\")\n",
        "    break\n",
        "\n",
        "  move = int(move)\n",
        "\n",
        "  if move < 0 or move > 6:\n",
        "    print(\"Invalid move\")\n",
        "    continue\n",
        "\n",
        "  if positions[move] == '-':\n",
        "    print(\"Invalid move\")\n",
        "    continue\n",
        "\n",
        "  empty_index = 0\n",
        "\n",
        "  if positions[move] == 'G':\n",
        "\n",
        "    if move + 1 <= 6 and positions[move + 1] == '-':\n",
        "      empty_index = move + 1\n",
        "\n",
        "    elif move + 2 <= 6 and positions[move + 2] == '-':\n",
        "      empty_index = move + 2\n",
        "\n",
        "    else:\n",
        "      print(\"Invalid move\")\n",
        "      continue\n",
        "  elif positions[move] == 'B':\n",
        "\n",
        "    if move - 1 >= 0 and positions[move - 1] == '-':\n",
        "      empty_index = move - 1\n",
        "\n",
        "    elif move - 2 >= 0 and positions[move - 2] == '-':\n",
        "      empty_index = move - 2\n",
        "\n",
        "    else:\n",
        "      print(\"Invalid move\")\n",
        "      continue\n",
        "\n",
        "  positions[move], positions[empty_index] = positions[empty_index], positions[move]\n",
        "\n",
        "  print(\"[ 0 , 1 , 2 , 3 , 4 , 5 , 6 ]\")\n",
        "  print(positions)\n",
        "\n",
        "  if positions == ['-', 'B', 'B', 'B', 'G', 'G', 'G']:\n",
        "        print('OPPOS!! You Loss')\n",
        "        break\n",
        "\n",
        "  elif positions == ['B', 'B', 'B', 'G', 'G', 'G', '-']:\n",
        "        print('OPPOS!! You Loss')\n",
        "        break\n",
        "\n",
        "  elif positions == ['_', 'G', 'G', 'G', 'B', 'B', 'B']:\n",
        "        print('OPPOS!! You Loss')\n",
        "        break\n",
        "\n",
        "  elif positions == ['G', 'G', 'B', 'B', 'B', '-', 'G']:\n",
        "        print('OPPOS!! You Loss')\n",
        "        break\n",
        "\n",
        "  elif positions == ['B', 'B', 'B', '-', 'G', 'G', 'G']:\n",
        "        print('Hurry!! You Win')\n",
        "        break\n",
        "\n",
        "\n",
        "\n",
        "\n"
      ],
      "metadata": {
        "id": "J1stXTjGFBRE",
        "colab": {
          "base_uri": "https://localhost:8080/"
        },
        "outputId": "992801f4-d1f6-43f4-9425-912fda34fcc4"
      },
      "execution_count": null,
      "outputs": [
        {
          "output_type": "stream",
          "name": "stdout",
          "text": [
            "Current status of the game : \n",
            "[ 0    1    2    3    4    5    6]\n",
            "['G', 'G', 'G', '-', 'B', 'B', 'B']\n",
            "Press q to quite or enter the position: 2\n",
            "[ 0 , 1 , 2 , 3 , 4 , 5 , 6 ]\n",
            "['G', 'G', '-', 'G', 'B', 'B', 'B']\n",
            "Press q to quite or enter the position: 4\n",
            "[ 0 , 1 , 2 , 3 , 4 , 5 , 6 ]\n",
            "['G', 'G', 'B', 'G', '-', 'B', 'B']\n",
            "Press q to quite or enter the position: 3\n",
            "[ 0 , 1 , 2 , 3 , 4 , 5 , 6 ]\n",
            "['G', 'G', 'B', '-', 'G', 'B', 'B']\n",
            "Press q to quite or enter the position: 5\n",
            "[ 0 , 1 , 2 , 3 , 4 , 5 , 6 ]\n",
            "['G', 'G', 'B', 'B', 'G', '-', 'B']\n",
            "Press q to quite or enter the position: 6\n",
            "[ 0 , 1 , 2 , 3 , 4 , 5 , 6 ]\n",
            "['G', 'G', 'B', 'B', 'G', 'B', '-']\n",
            "Press q to quite or enter the position: 5\n",
            "Invalid move\n"
          ]
        }
      ]
    }
  ]
}